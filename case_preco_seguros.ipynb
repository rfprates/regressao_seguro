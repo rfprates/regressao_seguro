{
 "cells": [
  {
   "cell_type": "markdown",
   "metadata": {},
   "source": [
    "# Case - Previsão do preço de custo do seguro com modelos de regressão"
   ]
  },
  {
   "cell_type": "markdown",
   "metadata": {},
   "source": [
    "## Objetivo do projeto"
   ]
  },
  {
   "cell_type": "markdown",
   "metadata": {},
   "source": [
    "Desenvolver o melhor modelo de machine learning de regressão para calcular o custo do seguro de clientes de uma empresa."
   ]
  },
  {
   "cell_type": "markdown",
   "metadata": {},
   "source": [
    "## Análise dos dados"
   ]
  },
  {
   "cell_type": "markdown",
   "metadata": {},
   "source": [
    "### Leitura e primeira visualização do dataset"
   ]
  },
  {
   "cell_type": "markdown",
   "metadata": {},
   "source": [
    "Primeiro, importou-se o dataset,"
   ]
  },
  {
   "cell_type": "code",
   "execution_count": 1,
   "metadata": {},
   "outputs": [],
   "source": [
    "import pandas as pd\n",
    "import numpy as np\n",
    "import matplotlib.pyplot as plt\n",
    "import seaborn as sns"
   ]
  },
  {
   "cell_type": "code",
   "execution_count": 2,
   "metadata": {},
   "outputs": [
    {
     "data": {
      "text/html": [
       "<div>\n",
       "<style scoped>\n",
       "    .dataframe tbody tr th:only-of-type {\n",
       "        vertical-align: middle;\n",
       "    }\n",
       "\n",
       "    .dataframe tbody tr th {\n",
       "        vertical-align: top;\n",
       "    }\n",
       "\n",
       "    .dataframe thead th {\n",
       "        text-align: right;\n",
       "    }\n",
       "</style>\n",
       "<table border=\"1\" class=\"dataframe\">\n",
       "  <thead>\n",
       "    <tr style=\"text-align: right;\">\n",
       "      <th></th>\n",
       "      <th>idade</th>\n",
       "      <th>sexo</th>\n",
       "      <th>imc</th>\n",
       "      <th>quantidade_filhos</th>\n",
       "      <th>fumante</th>\n",
       "      <th>regiao</th>\n",
       "      <th>custos_seguro</th>\n",
       "    </tr>\n",
       "  </thead>\n",
       "  <tbody>\n",
       "    <tr>\n",
       "      <th>0</th>\n",
       "      <td>19</td>\n",
       "      <td>female</td>\n",
       "      <td>27.900</td>\n",
       "      <td>0</td>\n",
       "      <td>yes</td>\n",
       "      <td>southwest</td>\n",
       "      <td>16884.92400</td>\n",
       "    </tr>\n",
       "    <tr>\n",
       "      <th>1</th>\n",
       "      <td>18</td>\n",
       "      <td>male</td>\n",
       "      <td>33.770</td>\n",
       "      <td>1</td>\n",
       "      <td>no</td>\n",
       "      <td>southeast</td>\n",
       "      <td>1725.55230</td>\n",
       "    </tr>\n",
       "    <tr>\n",
       "      <th>2</th>\n",
       "      <td>28</td>\n",
       "      <td>male</td>\n",
       "      <td>33.560</td>\n",
       "      <td>3</td>\n",
       "      <td>no</td>\n",
       "      <td>southeast</td>\n",
       "      <td>4449.46200</td>\n",
       "    </tr>\n",
       "    <tr>\n",
       "      <th>3</th>\n",
       "      <td>33</td>\n",
       "      <td>male</td>\n",
       "      <td>22.705</td>\n",
       "      <td>0</td>\n",
       "      <td>no</td>\n",
       "      <td>northwest</td>\n",
       "      <td>21984.47061</td>\n",
       "    </tr>\n",
       "    <tr>\n",
       "      <th>4</th>\n",
       "      <td>32</td>\n",
       "      <td>male</td>\n",
       "      <td>28.880</td>\n",
       "      <td>0</td>\n",
       "      <td>no</td>\n",
       "      <td>northwest</td>\n",
       "      <td>3866.85520</td>\n",
       "    </tr>\n",
       "  </tbody>\n",
       "</table>\n",
       "</div>"
      ],
      "text/plain": [
       "   idade    sexo     imc  quantidade_filhos fumante     regiao  custos_seguro\n",
       "0     19  female  27.900                  0     yes  southwest    16884.92400\n",
       "1     18    male  33.770                  1      no  southeast     1725.55230\n",
       "2     28    male  33.560                  3      no  southeast     4449.46200\n",
       "3     33    male  22.705                  0      no  northwest    21984.47061\n",
       "4     32    male  28.880                  0      no  northwest     3866.85520"
      ]
     },
     "execution_count": 2,
     "metadata": {},
     "output_type": "execute_result"
    }
   ],
   "source": [
    "df = pd.read_excel('insurance.xlsx')\n",
    "df.head()"
   ]
  },
  {
   "cell_type": "markdown",
   "metadata": {},
   "source": [
    "Pela análise acima, percebe-se que o dataset apresenta 7 colunas, sendo elas:\n",
    "- idade\n",
    "- sexo\n",
    "- imc = índice de massa corporal\n",
    "- quantidade de filhos\n",
    "- fumante\n",
    "- região\n",
    "- custos do seguro"
   ]
  },
  {
   "cell_type": "markdown",
   "metadata": {},
   "source": [
    "Portanto, a variável \"target\" deste projeto se trata da \"custos_seguro\", sendo as demais variáveis explicativas."
   ]
  },
  {
   "cell_type": "markdown",
   "metadata": {},
   "source": [
    "### Dados nulos"
   ]
  },
  {
   "cell_type": "markdown",
   "metadata": {},
   "source": [
    "Analisando-se mais afundo o dataset,"
   ]
  },
  {
   "cell_type": "code",
   "execution_count": 3,
   "metadata": {},
   "outputs": [
    {
     "name": "stdout",
     "output_type": "stream",
     "text": [
      "<class 'pandas.core.frame.DataFrame'>\n",
      "RangeIndex: 1341 entries, 0 to 1340\n",
      "Data columns (total 7 columns):\n",
      " #   Column             Non-Null Count  Dtype  \n",
      "---  ------             --------------  -----  \n",
      " 0   idade              1341 non-null   int64  \n",
      " 1   sexo               1338 non-null   object \n",
      " 2   imc                1341 non-null   float64\n",
      " 3   quantidade_filhos  1341 non-null   int64  \n",
      " 4   fumante            1341 non-null   object \n",
      " 5   regiao             1341 non-null   object \n",
      " 6   custos_seguro      1341 non-null   float64\n",
      "dtypes: float64(2), int64(2), object(3)\n",
      "memory usage: 73.5+ KB\n"
     ]
    }
   ],
   "source": [
    "df.info()"
   ]
  },
  {
   "cell_type": "markdown",
   "metadata": {},
   "source": [
    "Pelo resultado acima percebe-se que na coluna 'sexo' tem-se 3 entradas com dados nulos. Para calcular esta quantidade e o percentual comparado ao total de entradas (1341), utilizou-se o código abaixo."
   ]
  },
  {
   "cell_type": "code",
   "execution_count": 4,
   "metadata": {},
   "outputs": [
    {
     "data": {
      "text/html": [
       "<style type=\"text/css\">\n",
       "</style>\n",
       "<table id=\"T_ab01a\">\n",
       "  <thead>\n",
       "    <tr>\n",
       "      <th class=\"blank level0\" >&nbsp;</th>\n",
       "      <th id=\"T_ab01a_level0_col0\" class=\"col_heading level0 col0\" >missing_count</th>\n",
       "      <th id=\"T_ab01a_level0_col1\" class=\"col_heading level0 col1\" >missing_pct</th>\n",
       "    </tr>\n",
       "  </thead>\n",
       "  <tbody>\n",
       "    <tr>\n",
       "      <th id=\"T_ab01a_level0_row0\" class=\"row_heading level0 row0\" >idade</th>\n",
       "      <td id=\"T_ab01a_row0_col0\" class=\"data row0 col0\" >0</td>\n",
       "      <td id=\"T_ab01a_row0_col1\" class=\"data row0 col1\" >0.00%</td>\n",
       "    </tr>\n",
       "    <tr>\n",
       "      <th id=\"T_ab01a_level0_row1\" class=\"row_heading level0 row1\" >sexo</th>\n",
       "      <td id=\"T_ab01a_row1_col0\" class=\"data row1 col0\" >3</td>\n",
       "      <td id=\"T_ab01a_row1_col1\" class=\"data row1 col1\" >0.22%</td>\n",
       "    </tr>\n",
       "    <tr>\n",
       "      <th id=\"T_ab01a_level0_row2\" class=\"row_heading level0 row2\" >imc</th>\n",
       "      <td id=\"T_ab01a_row2_col0\" class=\"data row2 col0\" >0</td>\n",
       "      <td id=\"T_ab01a_row2_col1\" class=\"data row2 col1\" >0.00%</td>\n",
       "    </tr>\n",
       "    <tr>\n",
       "      <th id=\"T_ab01a_level0_row3\" class=\"row_heading level0 row3\" >quantidade_filhos</th>\n",
       "      <td id=\"T_ab01a_row3_col0\" class=\"data row3 col0\" >0</td>\n",
       "      <td id=\"T_ab01a_row3_col1\" class=\"data row3 col1\" >0.00%</td>\n",
       "    </tr>\n",
       "    <tr>\n",
       "      <th id=\"T_ab01a_level0_row4\" class=\"row_heading level0 row4\" >fumante</th>\n",
       "      <td id=\"T_ab01a_row4_col0\" class=\"data row4 col0\" >0</td>\n",
       "      <td id=\"T_ab01a_row4_col1\" class=\"data row4 col1\" >0.00%</td>\n",
       "    </tr>\n",
       "    <tr>\n",
       "      <th id=\"T_ab01a_level0_row5\" class=\"row_heading level0 row5\" >regiao</th>\n",
       "      <td id=\"T_ab01a_row5_col0\" class=\"data row5 col0\" >0</td>\n",
       "      <td id=\"T_ab01a_row5_col1\" class=\"data row5 col1\" >0.00%</td>\n",
       "    </tr>\n",
       "    <tr>\n",
       "      <th id=\"T_ab01a_level0_row6\" class=\"row_heading level0 row6\" >custos_seguro</th>\n",
       "      <td id=\"T_ab01a_row6_col0\" class=\"data row6 col0\" >0</td>\n",
       "      <td id=\"T_ab01a_row6_col1\" class=\"data row6 col1\" >0.00%</td>\n",
       "    </tr>\n",
       "  </tbody>\n",
       "</table>\n"
      ],
      "text/plain": [
       "<pandas.io.formats.style.Styler at 0x25b7fd92790>"
      ]
     },
     "execution_count": 4,
     "metadata": {},
     "output_type": "execute_result"
    }
   ],
   "source": [
    "missing_data = (\n",
    "    df.isnull().sum().to_frame('missing_count')\n",
    "    .join(((df.isnull().sum())/(df.shape[0])).to_frame('missing_pct'))\n",
    ")\n",
    "\n",
    "missing_data.style.format('{:.2%}', subset='missing_pct')"
   ]
  },
  {
   "cell_type": "markdown",
   "metadata": {},
   "source": [
    "Conforme demonstrado acima, como o percentual de linhas com dados nulos é muito baixo (0,22%), optou-se por excluí-las do dataset."
   ]
  },
  {
   "cell_type": "code",
   "execution_count": 5,
   "metadata": {},
   "outputs": [],
   "source": [
    "# excluindo os dados nulos\n",
    "df.dropna(inplace = True)"
   ]
  },
  {
   "cell_type": "markdown",
   "metadata": {},
   "source": [
    "### Linhas duplicadas"
   ]
  },
  {
   "cell_type": "markdown",
   "metadata": {},
   "source": [
    "Verificando agora a possível existência de linhas duplicadas,"
   ]
  },
  {
   "cell_type": "code",
   "execution_count": 6,
   "metadata": {},
   "outputs": [
    {
     "data": {
      "text/plain": [
       "1"
      ]
     },
     "execution_count": 6,
     "metadata": {},
     "output_type": "execute_result"
    }
   ],
   "source": [
    "df.duplicated().sum()"
   ]
  },
  {
   "cell_type": "markdown",
   "metadata": {},
   "source": [
    "Exibindo as duas linhas iguais presentes no dataset,"
   ]
  },
  {
   "cell_type": "code",
   "execution_count": 7,
   "metadata": {},
   "outputs": [
    {
     "data": {
      "text/html": [
       "<div>\n",
       "<style scoped>\n",
       "    .dataframe tbody tr th:only-of-type {\n",
       "        vertical-align: middle;\n",
       "    }\n",
       "\n",
       "    .dataframe tbody tr th {\n",
       "        vertical-align: top;\n",
       "    }\n",
       "\n",
       "    .dataframe thead th {\n",
       "        text-align: right;\n",
       "    }\n",
       "</style>\n",
       "<table border=\"1\" class=\"dataframe\">\n",
       "  <thead>\n",
       "    <tr style=\"text-align: right;\">\n",
       "      <th></th>\n",
       "      <th>idade</th>\n",
       "      <th>sexo</th>\n",
       "      <th>imc</th>\n",
       "      <th>quantidade_filhos</th>\n",
       "      <th>fumante</th>\n",
       "      <th>regiao</th>\n",
       "      <th>custos_seguro</th>\n",
       "    </tr>\n",
       "  </thead>\n",
       "  <tbody>\n",
       "    <tr>\n",
       "      <th>195</th>\n",
       "      <td>19</td>\n",
       "      <td>male</td>\n",
       "      <td>30.59</td>\n",
       "      <td>0</td>\n",
       "      <td>no</td>\n",
       "      <td>northwest</td>\n",
       "      <td>1639.5631</td>\n",
       "    </tr>\n",
       "    <tr>\n",
       "      <th>581</th>\n",
       "      <td>19</td>\n",
       "      <td>male</td>\n",
       "      <td>30.59</td>\n",
       "      <td>0</td>\n",
       "      <td>no</td>\n",
       "      <td>northwest</td>\n",
       "      <td>1639.5631</td>\n",
       "    </tr>\n",
       "  </tbody>\n",
       "</table>\n",
       "</div>"
      ],
      "text/plain": [
       "     idade  sexo    imc  quantidade_filhos fumante     regiao  custos_seguro\n",
       "195     19  male  30.59                  0      no  northwest      1639.5631\n",
       "581     19  male  30.59                  0      no  northwest      1639.5631"
      ]
     },
     "execution_count": 7,
     "metadata": {},
     "output_type": "execute_result"
    }
   ],
   "source": [
    "df[df.duplicated(keep = False)]"
   ]
  },
  {
   "cell_type": "markdown",
   "metadata": {},
   "source": [
    "Como são apenas duas linhas duplicadas, para evitar problemas no modelo, optou-se por excluí-las também."
   ]
  },
  {
   "cell_type": "code",
   "execution_count": 8,
   "metadata": {},
   "outputs": [],
   "source": [
    "df.drop_duplicates(inplace=True)"
   ]
  },
  {
   "cell_type": "markdown",
   "metadata": {},
   "source": [
    "### Estatísticas descritivas e outliers"
   ]
  },
  {
   "cell_type": "markdown",
   "metadata": {},
   "source": [
    "Avaliando agora as estatísticas descritivas das colunas numéricas presentes no dataset."
   ]
  },
  {
   "cell_type": "code",
   "execution_count": 9,
   "metadata": {},
   "outputs": [
    {
     "data": {
      "text/html": [
       "<div>\n",
       "<style scoped>\n",
       "    .dataframe tbody tr th:only-of-type {\n",
       "        vertical-align: middle;\n",
       "    }\n",
       "\n",
       "    .dataframe tbody tr th {\n",
       "        vertical-align: top;\n",
       "    }\n",
       "\n",
       "    .dataframe thead th {\n",
       "        text-align: right;\n",
       "    }\n",
       "</style>\n",
       "<table border=\"1\" class=\"dataframe\">\n",
       "  <thead>\n",
       "    <tr style=\"text-align: right;\">\n",
       "      <th></th>\n",
       "      <th>idade</th>\n",
       "      <th>imc</th>\n",
       "      <th>quantidade_filhos</th>\n",
       "      <th>custos_seguro</th>\n",
       "    </tr>\n",
       "  </thead>\n",
       "  <tbody>\n",
       "    <tr>\n",
       "      <th>count</th>\n",
       "      <td>1337.000000</td>\n",
       "      <td>1337.000000</td>\n",
       "      <td>1337.000000</td>\n",
       "      <td>1337.000000</td>\n",
       "    </tr>\n",
       "    <tr>\n",
       "      <th>mean</th>\n",
       "      <td>39.222139</td>\n",
       "      <td>30.663871</td>\n",
       "      <td>1.095737</td>\n",
       "      <td>13279.121487</td>\n",
       "    </tr>\n",
       "    <tr>\n",
       "      <th>std</th>\n",
       "      <td>14.044333</td>\n",
       "      <td>6.100648</td>\n",
       "      <td>1.205571</td>\n",
       "      <td>12110.359656</td>\n",
       "    </tr>\n",
       "    <tr>\n",
       "      <th>min</th>\n",
       "      <td>18.000000</td>\n",
       "      <td>15.960000</td>\n",
       "      <td>0.000000</td>\n",
       "      <td>1121.873900</td>\n",
       "    </tr>\n",
       "    <tr>\n",
       "      <th>25%</th>\n",
       "      <td>27.000000</td>\n",
       "      <td>26.290000</td>\n",
       "      <td>0.000000</td>\n",
       "      <td>4746.344000</td>\n",
       "    </tr>\n",
       "    <tr>\n",
       "      <th>50%</th>\n",
       "      <td>39.000000</td>\n",
       "      <td>30.400000</td>\n",
       "      <td>1.000000</td>\n",
       "      <td>9386.161300</td>\n",
       "    </tr>\n",
       "    <tr>\n",
       "      <th>75%</th>\n",
       "      <td>51.000000</td>\n",
       "      <td>34.700000</td>\n",
       "      <td>2.000000</td>\n",
       "      <td>16657.717450</td>\n",
       "    </tr>\n",
       "    <tr>\n",
       "      <th>max</th>\n",
       "      <td>64.000000</td>\n",
       "      <td>53.130000</td>\n",
       "      <td>5.000000</td>\n",
       "      <td>63770.428010</td>\n",
       "    </tr>\n",
       "  </tbody>\n",
       "</table>\n",
       "</div>"
      ],
      "text/plain": [
       "             idade          imc  quantidade_filhos  custos_seguro\n",
       "count  1337.000000  1337.000000        1337.000000    1337.000000\n",
       "mean     39.222139    30.663871           1.095737   13279.121487\n",
       "std      14.044333     6.100648           1.205571   12110.359656\n",
       "min      18.000000    15.960000           0.000000    1121.873900\n",
       "25%      27.000000    26.290000           0.000000    4746.344000\n",
       "50%      39.000000    30.400000           1.000000    9386.161300\n",
       "75%      51.000000    34.700000           2.000000   16657.717450\n",
       "max      64.000000    53.130000           5.000000   63770.428010"
      ]
     },
     "execution_count": 9,
     "metadata": {},
     "output_type": "execute_result"
    }
   ],
   "source": [
    "df.describe()"
   ]
  },
  {
   "cell_type": "markdown",
   "metadata": {},
   "source": [
    "Observando os dados de custos de seguro acima, percebe-se um desvio padrão de 12110, este que é um valor alto se comparado a média de 13279.12. Avalindo-se os quartis, é possível perceber que 75% dos preços de seguro são de até 16657, contudo o valor máximo presente nesta coluna é de 63770.42, indicando que provalvemente tem-se poucos valores altos de seguro que estão puxando o desvio padrão para cima, explicando esta distribuição de dados e também podendo significar a existência de outliers.\n",
    "\n",
    "Para visualizar a distribuição destes dados, plotou-se o histograma abaixo."
   ]
  },
  {
   "cell_type": "code",
   "execution_count": 10,
   "metadata": {},
   "outputs": [
    {
     "data": {
      "image/png": "[encoded data removed]",
      "text/plain": [
       "<Figure size 640x480 with 1 Axes>"
      ]
     },
     "metadata": {},
     "output_type": "display_data"
    }
   ],
   "source": [
    "sns.histplot(data = df, x = 'custos_seguro', kde = True);"
   ]
  },
  {
   "cell_type": "markdown",
   "metadata": {},
   "source": [
    "Pelo gráfico acima, tem-se uma distribuição com assimetria positiva destes dados, onde a média é maior que a mediana e a moda, o que leva aos dados com valores mais altos serem bem menos frequentes. Fica claro pelo pela imagem que os casos com custo de seguro de 50000 ou mais são muito raros neste dataset. Para mostrar estes casos, segue o código abaixo"
   ]
  },
  {
   "cell_type": "code",
   "execution_count": 11,
   "metadata": {},
   "outputs": [
    {
     "data": {
      "text/html": [
       "<div>\n",
       "<style scoped>\n",
       "    .dataframe tbody tr th:only-of-type {\n",
       "        vertical-align: middle;\n",
       "    }\n",
       "\n",
       "    .dataframe tbody tr th {\n",
       "        vertical-align: top;\n",
       "    }\n",
       "\n",
       "    .dataframe thead th {\n",
       "        text-align: right;\n",
       "    }\n",
       "</style>\n",
       "<table border=\"1\" class=\"dataframe\">\n",
       "  <thead>\n",
       "    <tr style=\"text-align: right;\">\n",
       "      <th></th>\n",
       "      <th>idade</th>\n",
       "      <th>sexo</th>\n",
       "      <th>imc</th>\n",
       "      <th>quantidade_filhos</th>\n",
       "      <th>fumante</th>\n",
       "      <th>regiao</th>\n",
       "      <th>custos_seguro</th>\n",
       "    </tr>\n",
       "  </thead>\n",
       "  <tbody>\n",
       "    <tr>\n",
       "      <th>34</th>\n",
       "      <td>28</td>\n",
       "      <td>male</td>\n",
       "      <td>36.400</td>\n",
       "      <td>1</td>\n",
       "      <td>yes</td>\n",
       "      <td>southwest</td>\n",
       "      <td>51194.55914</td>\n",
       "    </tr>\n",
       "    <tr>\n",
       "      <th>543</th>\n",
       "      <td>54</td>\n",
       "      <td>female</td>\n",
       "      <td>47.410</td>\n",
       "      <td>0</td>\n",
       "      <td>yes</td>\n",
       "      <td>southeast</td>\n",
       "      <td>63770.42801</td>\n",
       "    </tr>\n",
       "    <tr>\n",
       "      <th>577</th>\n",
       "      <td>31</td>\n",
       "      <td>female</td>\n",
       "      <td>38.095</td>\n",
       "      <td>1</td>\n",
       "      <td>yes</td>\n",
       "      <td>northeast</td>\n",
       "      <td>58571.07448</td>\n",
       "    </tr>\n",
       "    <tr>\n",
       "      <th>819</th>\n",
       "      <td>33</td>\n",
       "      <td>female</td>\n",
       "      <td>35.530</td>\n",
       "      <td>0</td>\n",
       "      <td>yes</td>\n",
       "      <td>northwest</td>\n",
       "      <td>55135.40209</td>\n",
       "    </tr>\n",
       "    <tr>\n",
       "      <th>1146</th>\n",
       "      <td>60</td>\n",
       "      <td>male</td>\n",
       "      <td>32.800</td>\n",
       "      <td>0</td>\n",
       "      <td>yes</td>\n",
       "      <td>southwest</td>\n",
       "      <td>52590.82939</td>\n",
       "    </tr>\n",
       "    <tr>\n",
       "      <th>1230</th>\n",
       "      <td>52</td>\n",
       "      <td>male</td>\n",
       "      <td>34.485</td>\n",
       "      <td>3</td>\n",
       "      <td>yes</td>\n",
       "      <td>northwest</td>\n",
       "      <td>60021.39897</td>\n",
       "    </tr>\n",
       "    <tr>\n",
       "      <th>1302</th>\n",
       "      <td>45</td>\n",
       "      <td>male</td>\n",
       "      <td>30.360</td>\n",
       "      <td>0</td>\n",
       "      <td>yes</td>\n",
       "      <td>southeast</td>\n",
       "      <td>62592.87309</td>\n",
       "    </tr>\n",
       "  </tbody>\n",
       "</table>\n",
       "</div>"
      ],
      "text/plain": [
       "      idade    sexo     imc  quantidade_filhos fumante     regiao  \\\n",
       "34       28    male  36.400                  1     yes  southwest   \n",
       "543      54  female  47.410                  0     yes  southeast   \n",
       "577      31  female  38.095                  1     yes  northeast   \n",
       "819      33  female  35.530                  0     yes  northwest   \n",
       "1146     60    male  32.800                  0     yes  southwest   \n",
       "1230     52    male  34.485                  3     yes  northwest   \n",
       "1302     45    male  30.360                  0     yes  southeast   \n",
       "\n",
       "      custos_seguro  \n",
       "34      51194.55914  \n",
       "543     63770.42801  \n",
       "577     58571.07448  \n",
       "819     55135.40209  \n",
       "1146    52590.82939  \n",
       "1230    60021.39897  \n",
       "1302    62592.87309  "
      ]
     },
     "execution_count": 11,
     "metadata": {},
     "output_type": "execute_result"
    }
   ],
   "source": [
    "df[df['custos_seguro']>=50000]"
   ]
  },
  {
   "cell_type": "markdown",
   "metadata": {},
   "source": [
    "Portanto, são apenas 7 casos em que o custo do seguro foi acima dos 50000."
   ]
  },
  {
   "cell_type": "markdown",
   "metadata": {},
   "source": [
    "Verificou-se agora a existência de outliers neste dataset. Para tal, foi definida função abaixo, que calcula a quantidade de outliers por coluna."
   ]
  },
  {
   "cell_type": "code",
   "execution_count": 13,
   "metadata": {},
   "outputs": [],
   "source": [
    "# função para calcular a quantidade de outliers\n",
    "def is_outlier (array):\n",
    "    q1, q3 = np.quantile(array, [0.25, 0.75])\n",
    "    iqr = q3-q1\n",
    "\n",
    "    upper_outlier = q3 + 1.5*iqr\n",
    "    lower_outlier = q1 - 1.5*iqr\n",
    "\n",
    "    return ((array<lower_outlier) | (array>upper_outlier))"
   ]
  },
  {
   "cell_type": "markdown",
   "metadata": {},
   "source": [
    "Em seguida, aplicou-se a função em cada coluna do dataset, plotando-se os gráficos boxplot somente das colunas que tem outliers."
   ]
  },
  {
   "cell_type": "code",
   "execution_count": 18,
   "metadata": {},
   "outputs": [
    {
     "data": {
      "image/png": "[encoded data removed]",
      "text/plain": [
       "<Figure size 800x800 with 1 Axes>"
      ]
     },
     "metadata": {},
     "output_type": "display_data"
    },
    {
     "data": {
      "image/png": "[encoded data removed]",
      "text/plain": [
       "<Figure size 800x800 with 1 Axes>"
      ]
     },
     "metadata": {},
     "output_type": "display_data"
    }
   ],
   "source": [
    "# definindo um data frame com a quantidade de outliers por coluna\n",
    "\n",
    "outliers_df = (df.select_dtypes('number')                       # selecionando somente as colunas numéricas\n",
    "               .apply(is_outlier)                               # aplicando a função definida anteriormente\n",
    "               .sum()                                           # calculando o total de outliers presentes na coluna\n",
    "               .reset_index()                                   # adicionando uma nova coluna 'index' na Series, criando assim um Data Frame\n",
    "               .rename(columns = {'index': 'colunas_df'})       # renomeando a coluna 'index' para 'colunas_df'\n",
    ")\n",
    "\n",
    "# criando uma lista somente com o nome das colunas que apresentam outliers\n",
    "colunas_outliers = outliers_df[outliers_df[0]>0]['colunas_df'].to_list()\n",
    "colunas_outliers\n",
    "\n",
    "# plotando um gráfico boxplot por coluna que está na lista criada anteriormente\n",
    "for coluna in colunas_outliers:\n",
    "\n",
    "    figura = plt.figure(figsize = (8,8))\n",
    "    \n",
    "    sns.boxplot(data = df[coluna])\n",
    "    \n",
    "    qtd_outliers = outliers_df[outliers_df['colunas_df'] == coluna][0].to_numpy()[0]\n",
    "    \n",
    "    legenda = f'Quantidade de outliers = {qtd_outliers}'\n",
    "\n",
    "    figura.text(0.15, 0.8, legenda, size = 9, color='black')\n",
    "\n",
    "    plt.show()"
   ]
  },
  {
   "cell_type": "markdown",
   "metadata": {},
   "source": [
    "Pelo gráfico acima, percebe-se que as colunas \"custos_seguro\" e \"imc\" apresentam outliers, sendo na coluna de custos os casos mais frequentes, conforme previsto anteriormente. Portanto, existem 139 outliers na coluna 'custos_seguro' e 9 na coluna 'imc'.\n",
    "\n",
    "Para tratar isto, poderia-se apenas ignorar os outliers, aplicando um filtro com os casos em que a função definida acima retorna \"True\", conforme demonstrado a seguir."
   ]
  },
  {
   "cell_type": "code",
   "execution_count": 15,
   "metadata": {},
   "outputs": [
    {
     "data": {
      "text/html": [
       "<div>\n",
       "<style scoped>\n",
       "    .dataframe tbody tr th:only-of-type {\n",
       "        vertical-align: middle;\n",
       "    }\n",
       "\n",
       "    .dataframe tbody tr th {\n",
       "        vertical-align: top;\n",
       "    }\n",
       "\n",
       "    .dataframe thead th {\n",
       "        text-align: right;\n",
       "    }\n",
       "</style>\n",
       "<table border=\"1\" class=\"dataframe\">\n",
       "  <thead>\n",
       "    <tr style=\"text-align: right;\">\n",
       "      <th></th>\n",
       "      <th>idade</th>\n",
       "      <th>sexo</th>\n",
       "      <th>imc</th>\n",
       "      <th>quantidade_filhos</th>\n",
       "      <th>fumante</th>\n",
       "      <th>regiao</th>\n",
       "      <th>custos_seguro</th>\n",
       "    </tr>\n",
       "  </thead>\n",
       "  <tbody>\n",
       "    <tr>\n",
       "      <th>0</th>\n",
       "      <td>19</td>\n",
       "      <td>female</td>\n",
       "      <td>27.900</td>\n",
       "      <td>0</td>\n",
       "      <td>yes</td>\n",
       "      <td>southwest</td>\n",
       "      <td>16884.92400</td>\n",
       "    </tr>\n",
       "    <tr>\n",
       "      <th>1</th>\n",
       "      <td>18</td>\n",
       "      <td>male</td>\n",
       "      <td>33.770</td>\n",
       "      <td>1</td>\n",
       "      <td>no</td>\n",
       "      <td>southeast</td>\n",
       "      <td>1725.55230</td>\n",
       "    </tr>\n",
       "    <tr>\n",
       "      <th>2</th>\n",
       "      <td>28</td>\n",
       "      <td>male</td>\n",
       "      <td>33.560</td>\n",
       "      <td>3</td>\n",
       "      <td>no</td>\n",
       "      <td>southeast</td>\n",
       "      <td>4449.46200</td>\n",
       "    </tr>\n",
       "    <tr>\n",
       "      <th>3</th>\n",
       "      <td>33</td>\n",
       "      <td>male</td>\n",
       "      <td>22.705</td>\n",
       "      <td>0</td>\n",
       "      <td>no</td>\n",
       "      <td>northwest</td>\n",
       "      <td>21984.47061</td>\n",
       "    </tr>\n",
       "    <tr>\n",
       "      <th>4</th>\n",
       "      <td>32</td>\n",
       "      <td>male</td>\n",
       "      <td>28.880</td>\n",
       "      <td>0</td>\n",
       "      <td>no</td>\n",
       "      <td>northwest</td>\n",
       "      <td>3866.85520</td>\n",
       "    </tr>\n",
       "    <tr>\n",
       "      <th>...</th>\n",
       "      <td>...</td>\n",
       "      <td>...</td>\n",
       "      <td>...</td>\n",
       "      <td>...</td>\n",
       "      <td>...</td>\n",
       "      <td>...</td>\n",
       "      <td>...</td>\n",
       "    </tr>\n",
       "    <tr>\n",
       "      <th>1336</th>\n",
       "      <td>50</td>\n",
       "      <td>male</td>\n",
       "      <td>30.970</td>\n",
       "      <td>3</td>\n",
       "      <td>no</td>\n",
       "      <td>northwest</td>\n",
       "      <td>10600.54830</td>\n",
       "    </tr>\n",
       "    <tr>\n",
       "      <th>1337</th>\n",
       "      <td>18</td>\n",
       "      <td>female</td>\n",
       "      <td>31.920</td>\n",
       "      <td>0</td>\n",
       "      <td>no</td>\n",
       "      <td>northeast</td>\n",
       "      <td>2205.98080</td>\n",
       "    </tr>\n",
       "    <tr>\n",
       "      <th>1338</th>\n",
       "      <td>18</td>\n",
       "      <td>female</td>\n",
       "      <td>36.850</td>\n",
       "      <td>0</td>\n",
       "      <td>no</td>\n",
       "      <td>southeast</td>\n",
       "      <td>1629.83350</td>\n",
       "    </tr>\n",
       "    <tr>\n",
       "      <th>1339</th>\n",
       "      <td>21</td>\n",
       "      <td>female</td>\n",
       "      <td>25.800</td>\n",
       "      <td>0</td>\n",
       "      <td>no</td>\n",
       "      <td>southwest</td>\n",
       "      <td>2007.94500</td>\n",
       "    </tr>\n",
       "    <tr>\n",
       "      <th>1340</th>\n",
       "      <td>61</td>\n",
       "      <td>female</td>\n",
       "      <td>29.070</td>\n",
       "      <td>0</td>\n",
       "      <td>yes</td>\n",
       "      <td>northwest</td>\n",
       "      <td>29141.36030</td>\n",
       "    </tr>\n",
       "  </tbody>\n",
       "</table>\n",
       "<p>1192 rows × 7 columns</p>\n",
       "</div>"
      ],
      "text/plain": [
       "      idade    sexo     imc  quantidade_filhos fumante     regiao  \\\n",
       "0        19  female  27.900                  0     yes  southwest   \n",
       "1        18    male  33.770                  1      no  southeast   \n",
       "2        28    male  33.560                  3      no  southeast   \n",
       "3        33    male  22.705                  0      no  northwest   \n",
       "4        32    male  28.880                  0      no  northwest   \n",
       "...     ...     ...     ...                ...     ...        ...   \n",
       "1336     50    male  30.970                  3      no  northwest   \n",
       "1337     18  female  31.920                  0      no  northeast   \n",
       "1338     18  female  36.850                  0      no  southeast   \n",
       "1339     21  female  25.800                  0      no  southwest   \n",
       "1340     61  female  29.070                  0     yes  northwest   \n",
       "\n",
       "      custos_seguro  \n",
       "0       16884.92400  \n",
       "1        1725.55230  \n",
       "2        4449.46200  \n",
       "3       21984.47061  \n",
       "4        3866.85520  \n",
       "...             ...  \n",
       "1336    10600.54830  \n",
       "1337     2205.98080  \n",
       "1338     1629.83350  \n",
       "1339     2007.94500  \n",
       "1340    29141.36030  \n",
       "\n",
       "[1192 rows x 7 columns]"
      ]
     },
     "execution_count": 15,
     "metadata": {},
     "output_type": "execute_result"
    }
   ],
   "source": [
    "# filtrando o dataset para ignorar todas as linhas que contenham outliers\n",
    "\n",
    "df[~df.select_dtypes('number').apply(is_outlier).any(axis = 1)]"
   ]
  },
  {
   "cell_type": "markdown",
   "metadata": {},
   "source": [
    "### Tratando as variáveis categóricas"
   ]
  },
  {
   "cell_type": "code",
   "execution_count": 13,
   "metadata": {},
   "outputs": [
    {
     "data": {
      "text/plain": [
       "array(['southwest', 'southeast', 'northwest', 'northeast'], dtype=object)"
      ]
     },
     "execution_count": 13,
     "metadata": {},
     "output_type": "execute_result"
    }
   ],
   "source": [
    "df['regiao'].unique()"
   ]
  },
  {
   "cell_type": "code",
   "execution_count": 14,
   "metadata": {},
   "outputs": [
    {
     "data": {
      "text/plain": [
       "array(['female', 'male'], dtype=object)"
      ]
     },
     "execution_count": 14,
     "metadata": {},
     "output_type": "execute_result"
    }
   ],
   "source": [
    "df['sexo'].unique()"
   ]
  },
  {
   "cell_type": "code",
   "execution_count": 15,
   "metadata": {},
   "outputs": [
    {
     "data": {
      "text/plain": [
       "array(['yes', 'no'], dtype=object)"
      ]
     },
     "execution_count": 15,
     "metadata": {},
     "output_type": "execute_result"
    }
   ],
   "source": [
    "df['fumante'].unique()"
   ]
  },
  {
   "cell_type": "code",
   "execution_count": 16,
   "metadata": {},
   "outputs": [
    {
     "data": {
      "text/html": [
       "<div>\n",
       "<style scoped>\n",
       "    .dataframe tbody tr th:only-of-type {\n",
       "        vertical-align: middle;\n",
       "    }\n",
       "\n",
       "    .dataframe tbody tr th {\n",
       "        vertical-align: top;\n",
       "    }\n",
       "\n",
       "    .dataframe thead th {\n",
       "        text-align: right;\n",
       "    }\n",
       "</style>\n",
       "<table border=\"1\" class=\"dataframe\">\n",
       "  <thead>\n",
       "    <tr style=\"text-align: right;\">\n",
       "      <th></th>\n",
       "      <th>idade</th>\n",
       "      <th>imc</th>\n",
       "      <th>quantidade_filhos</th>\n",
       "      <th>custos_seguro</th>\n",
       "      <th>regiao_northeast</th>\n",
       "      <th>regiao_northwest</th>\n",
       "      <th>regiao_southeast</th>\n",
       "      <th>regiao_southwest</th>\n",
       "      <th>sexo_female</th>\n",
       "      <th>sexo_male</th>\n",
       "      <th>fumante_no</th>\n",
       "      <th>fumante_yes</th>\n",
       "    </tr>\n",
       "  </thead>\n",
       "  <tbody>\n",
       "    <tr>\n",
       "      <th>0</th>\n",
       "      <td>19</td>\n",
       "      <td>27.900</td>\n",
       "      <td>0</td>\n",
       "      <td>16884.92400</td>\n",
       "      <td>0</td>\n",
       "      <td>0</td>\n",
       "      <td>0</td>\n",
       "      <td>1</td>\n",
       "      <td>1</td>\n",
       "      <td>0</td>\n",
       "      <td>0</td>\n",
       "      <td>1</td>\n",
       "    </tr>\n",
       "    <tr>\n",
       "      <th>1</th>\n",
       "      <td>18</td>\n",
       "      <td>33.770</td>\n",
       "      <td>1</td>\n",
       "      <td>1725.55230</td>\n",
       "      <td>0</td>\n",
       "      <td>0</td>\n",
       "      <td>1</td>\n",
       "      <td>0</td>\n",
       "      <td>0</td>\n",
       "      <td>1</td>\n",
       "      <td>1</td>\n",
       "      <td>0</td>\n",
       "    </tr>\n",
       "    <tr>\n",
       "      <th>2</th>\n",
       "      <td>28</td>\n",
       "      <td>33.560</td>\n",
       "      <td>3</td>\n",
       "      <td>4449.46200</td>\n",
       "      <td>0</td>\n",
       "      <td>0</td>\n",
       "      <td>1</td>\n",
       "      <td>0</td>\n",
       "      <td>0</td>\n",
       "      <td>1</td>\n",
       "      <td>1</td>\n",
       "      <td>0</td>\n",
       "    </tr>\n",
       "    <tr>\n",
       "      <th>3</th>\n",
       "      <td>33</td>\n",
       "      <td>22.705</td>\n",
       "      <td>0</td>\n",
       "      <td>21984.47061</td>\n",
       "      <td>0</td>\n",
       "      <td>1</td>\n",
       "      <td>0</td>\n",
       "      <td>0</td>\n",
       "      <td>0</td>\n",
       "      <td>1</td>\n",
       "      <td>1</td>\n",
       "      <td>0</td>\n",
       "    </tr>\n",
       "    <tr>\n",
       "      <th>4</th>\n",
       "      <td>32</td>\n",
       "      <td>28.880</td>\n",
       "      <td>0</td>\n",
       "      <td>3866.85520</td>\n",
       "      <td>0</td>\n",
       "      <td>1</td>\n",
       "      <td>0</td>\n",
       "      <td>0</td>\n",
       "      <td>0</td>\n",
       "      <td>1</td>\n",
       "      <td>1</td>\n",
       "      <td>0</td>\n",
       "    </tr>\n",
       "  </tbody>\n",
       "</table>\n",
       "</div>"
      ],
      "text/plain": [
       "   idade     imc  quantidade_filhos  custos_seguro  regiao_northeast  \\\n",
       "0     19  27.900                  0    16884.92400                 0   \n",
       "1     18  33.770                  1     1725.55230                 0   \n",
       "2     28  33.560                  3     4449.46200                 0   \n",
       "3     33  22.705                  0    21984.47061                 0   \n",
       "4     32  28.880                  0     3866.85520                 0   \n",
       "\n",
       "   regiao_northwest  regiao_southeast  regiao_southwest  sexo_female  \\\n",
       "0                 0                 0                 1            1   \n",
       "1                 0                 1                 0            0   \n",
       "2                 0                 1                 0            0   \n",
       "3                 1                 0                 0            0   \n",
       "4                 1                 0                 0            0   \n",
       "\n",
       "   sexo_male  fumante_no  fumante_yes  \n",
       "0          0           0            1  \n",
       "1          1           1            0  \n",
       "2          1           1            0  \n",
       "3          1           1            0  \n",
       "4          1           1            0  "
      ]
     },
     "execution_count": 16,
     "metadata": {},
     "output_type": "execute_result"
    }
   ],
   "source": [
    "df = pd.get_dummies(df, columns = ['regiao', 'sexo', 'fumante'], dtype = 'int')\n",
    "df.head()"
   ]
  },
  {
   "cell_type": "code",
   "execution_count": null,
   "metadata": {},
   "outputs": [],
   "source": []
  }
 ],
 "metadata": {
  "kernelspec": {
   "display_name": "Python 3",
   "language": "python",
   "name": "python3"
  },
  "language_info": {
   "codemirror_mode": {
    "name": "ipython",
    "version": 3
   },
   "file_extension": ".py",
   "mimetype": "text/x-python",
   "name": "python",
   "nbconvert_exporter": "python",
   "pygments_lexer": "ipython3",
   "version": "3.11.2"
  }
 },
 "nbformat": 4,
 "nbformat_minor": 2
}
